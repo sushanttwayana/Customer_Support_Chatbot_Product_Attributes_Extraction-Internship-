{
 "cells": [
  {
   "cell_type": "code",
   "execution_count": 1,
   "id": "d69fc716",
   "metadata": {},
   "outputs": [],
   "source": [
    "from langchain.utilities import SQLDatabase  # Connect to the mysql database\n",
    "from langchain_openai import ChatOpenAI\n",
    "from dotenv import load_dotenv\n",
    "from langchain_huggingface import HuggingFaceEmbeddings\n",
    "load_dotenv()\n",
    "from langchain_chroma import Chroma\n",
    "from langchain_core.example_selectors import SemanticSimilarityExampleSelector\n",
    "from langchain_core.messages import HumanMessage,AnyMessage,AIMessage,ToolMessage,SystemMessage\n",
    "from langchain.tools import tool\n",
    "from langchain.agents import AgentExecutor , create_openai_tools_agent\n",
    "from langchain.prompts import ChatPromptTemplate,HumanMessagePromptTemplate,MessagesPlaceholder\n",
    "from langchain_core.runnables import RunnableLambda,RunnableParallel,RunnablePassthrough,RunnableSequence\n",
    "from langchain_core.messages import trim_messages\n",
    "from langchain_groq import ChatGroq\n"
   ]
  },
  {
   "cell_type": "markdown",
   "id": "8a0f7e49",
   "metadata": {},
   "source": [
    "# 1. Connect to Mysql Database"
   ]
  },
  {
   "cell_type": "code",
   "execution_count": 2,
   "id": "e0cdd259",
   "metadata": {},
   "outputs": [],
   "source": [
    "# Credentials such as username,password,database name etc \n",
    "username = 'readonly_user'\n",
    "password = 'prabal9869'\n",
    "host = '127.0.0.1'\n",
    "db_name = 'nepa_wholesale'\n",
    "\n",
    "mysql_uri = f\"mysql+pymysql://{username}:{password}@{host}/{db_name}\"\n",
    "\n",
    "db = SQLDatabase.from_uri(mysql_uri,sample_rows_in_table_info=2)"
   ]
  },
  {
   "cell_type": "code",
   "execution_count": 3,
   "id": "1718e167",
   "metadata": {},
   "outputs": [],
   "source": [
    "# db.run(\"Drop table cigars_category;\")"
   ]
  },
  {
   "cell_type": "code",
   "execution_count": 4,
   "id": "51c2aadf",
   "metadata": {},
   "outputs": [
    {
     "name": "stdout",
     "output_type": "stream",
     "text": [
      "mysql\n",
      "['cigars_category', 'cigrattes_category', 'disposable_category', 'ecigs_vape_category', 'other_category', 'tobaccos_category']\n"
     ]
    }
   ],
   "source": [
    "print(db.dialect)\n",
    "print(db.get_usable_table_names()) # to get the name of tables\n",
    "# print(db.get_table_info()) # to get the schema of the tables"
   ]
  },
  {
   "cell_type": "markdown",
   "id": "6fd20547",
   "metadata": {},
   "source": [
    "# 2. Initialize the llm and embedding-model"
   ]
  },
  {
   "cell_type": "code",
   "execution_count": 5,
   "id": "2bc50175",
   "metadata": {},
   "outputs": [],
   "source": [
    "# llm = ChatOpenAI(model= \"gpt-4o mini\",temperature = 0.3,max_tokens = 20)\n",
    "llm = ChatGroq(model = \"Llama-3.3-70b-Versatile\",temperature=0.3,max_tokens = 300)\n",
    "\n",
    "# llm = ChatOpenAI(model_name = 'gpt-3.5-turbo',temperature=0.2, max_tokens = 400)"
   ]
  },
  {
   "cell_type": "code",
   "execution_count": 6,
   "id": "45c22952",
   "metadata": {},
   "outputs": [],
   "source": [
    "# llm.invoke(\"Hi\")"
   ]
  },
  {
   "cell_type": "code",
   "execution_count": 7,
   "id": "232bab0f",
   "metadata": {},
   "outputs": [
    {
     "name": "stderr",
     "output_type": "stream",
     "text": [
      "c:\\Users\\Prabal Kuinkel\\Desktop\\NepaWholesale\\SQL_Agent\\sql_agent_nepa\\Lib\\site-packages\\tqdm\\auto.py:21: TqdmWarning: IProgress not found. Please update jupyter and ipywidgets. See https://ipywidgets.readthedocs.io/en/stable/user_install.html\n",
      "  from .autonotebook import tqdm as notebook_tqdm\n"
     ]
    }
   ],
   "source": [
    "embedding_model = HuggingFaceEmbeddings(model_name=\"sentence-transformers/all-MiniLM-L6-v2\")"
   ]
  },
  {
   "cell_type": "markdown",
   "id": "3c0d89a6",
   "metadata": {},
   "source": [
    "# 3. Creating fewshot examples"
   ]
  },
  {
   "cell_type": "code",
   "execution_count": 8,
   "id": "658c2c11",
   "metadata": {},
   "outputs": [],
   "source": [
    "examples = [\n",
    "    {\n",
    "        'question': \"How many products of fronto are there in x ?\",\n",
    "        'query': \"SELECT COUNT(*) FROM x WHERE Brand LIKE '%FRONTO%';\"\n",
    "    },\n",
    "    {\n",
    "        'question': \"How many products are there in x with flavor mint\",\n",
    "        'query': \"SELECT COUNT(Product_ID) FROM x WHERE Flavor LIKE '%mint%';\"\n",
    "    },\n",
    "    {\n",
    "        'question': \"How many products are there in x having nicotine less than 5%. list them ?\",\n",
    "        'query': \"SELECT Product_ID, Display_Name, Nicotine_strength FROM x WHERE CAST(REPLACE(Nicotine_strength, '%', '') AS DECIMAL(3,2)) < 5 LIMIT 5;\"\n",
    "    },\n",
    "    {\n",
    "        'question': \"Which flavors of x have 'Raspberry' in them?\",\n",
    "        'query': \"SELECT Flavor FROM x WHERE Flavor LIKE '%Raspberry%' LIMIT 5;\"\n",
    "    },\n",
    "    {\n",
    "        'question': \"List x products with nicotine strength of 2%\",\n",
    "        'query': \"SELECT Display_Name, Nicotine_strength FROM x WHERE Nicotine_strength LIKE '%2%%' LIMIT 5;\"\n",
    "    },\n",
    "    {\n",
    "        'question': \"How many different x flavors do you offer?\",\n",
    "        'query': \"SELECT COUNT(DISTINCT Flavor) FROM x;\"\n",
    "    }\n",
    "]\n"
   ]
  },
  {
   "cell_type": "markdown",
   "id": "557b326f",
   "metadata": {},
   "source": [
    "# 4. Creating the vectorstore"
   ]
  },
  {
   "cell_type": "code",
   "execution_count": 9,
   "id": "b33adcdd",
   "metadata": {},
   "outputs": [],
   "source": [
    "vectorstore = Chroma(\n",
    "    embedding_function = embedding_model, # Embedding model\n",
    "    collection_name = \"example_collection\", # Table name in vectorstore\n",
    "    persist_directory=\"./chroma_db\" \n",
    ")"
   ]
  },
  {
   "cell_type": "code",
   "execution_count": 10,
   "id": "1eece374",
   "metadata": {},
   "outputs": [
    {
     "data": {
      "text/plain": [
       "['2c47764b-5fb3-4676-8ece-b318d19e0122',\n",
       " '818dbf08-a232-4b19-881c-17e9b6032d60',\n",
       " '38e12f8b-942f-491e-b923-432048404640',\n",
       " '038a51c5-c5fe-40bb-a635-c3ad59327b7a',\n",
       " 'c4ebbfc7-f7eb-4f78-9a6e-aacb3965c7d2',\n",
       " '8918f447-5a3a-47b9-a2c1-a4c892db0915']"
      ]
     },
     "execution_count": 10,
     "metadata": {},
     "output_type": "execute_result"
    }
   ],
   "source": [
    "# Addind the examples in vectorstore (Only questions as text and entire 'question and query' in metadata)\n",
    "vectorstore.add_texts([ex['question'] for ex in examples],metadatas=examples)"
   ]
  },
  {
   "cell_type": "markdown",
   "id": "6877a0aa",
   "metadata": {},
   "source": [
    "# 5. Defining the examples selector from vectorstore"
   ]
  },
  {
   "cell_type": "code",
   "execution_count": 11,
   "id": "d3136522",
   "metadata": {},
   "outputs": [],
   "source": [
    "example_selector = SemanticSimilarityExampleSelector.from_examples(\n",
    "    examples=examples,\n",
    "    embeddings = embedding_model,\n",
    "    k=1 , \n",
    "    input_keys = ['question'],   # Which key to use for similarity search\n",
    "    example_keys=['question','query'], # Which keys to return\n",
    "    vectorstore_cls=Chroma,\n",
    ")"
   ]
  },
  {
   "cell_type": "markdown",
   "id": "de1335e8",
   "metadata": {},
   "source": [
    "# 6. Build dynamic prompt with : prompt + examples "
   ]
  },
  {
   "cell_type": "code",
   "execution_count": 12,
   "id": "dd69d2dd",
   "metadata": {},
   "outputs": [],
   "source": [
    "def build_dynamic_prefix(user_question: str) -> str:\n",
    "    # print(messages[-1].content)\n",
    "    # print(user_question)\n",
    "    # user_question = messages\n",
    "    # print(f\"***** Selectiong Dynamic example using this question***** {user_question}\")\n",
    "    # user_question = \n",
    "    selected = example_selector.select_examples({\"question\": user_question})\n",
    "    formatted_examples = \"\\n\".join([\n",
    "        f\"Human: {ex['question']}\\nAI:\\nSQLQuery: {ex['query']}\" for ex in selected\n",
    "    ])\n",
    "    return f\"\"\"User Question to answer :  {user_question}\n",
    "\n",
    "Refer to the below given most similar examples to answer the above user question . \n",
    "\n",
    "Examples:\n",
    "{formatted_examples}\n",
    "...\n",
    "\n",
    "Now begin.\n",
    "\"\"\"\n",
    "# dynamic_prefix = build_dynamic_prefix(\"what is my income of last year\")"
   ]
  },
  {
   "cell_type": "code",
   "execution_count": 13,
   "id": "29fffd4a",
   "metadata": {},
   "outputs": [
    {
     "name": "stdout",
     "output_type": "stream",
     "text": [
      "User Question to answer :  list me the disposables products that have nicotine strength between 0% to 5% .\n",
      "\n",
      "Refer to the below given most similar examples to answer the above user question . \n",
      "\n",
      "Examples:\n",
      "Human: List x products with nicotine strength of 2%\n",
      "AI:\n",
      "SQLQuery: SELECT Display_Name, Nicotine_strength FROM x WHERE Nicotine_strength LIKE '%2%%' LIMIT 5;\n",
      "...\n",
      "\n",
      "Now begin.\n",
      "\n"
     ]
    }
   ],
   "source": [
    "print(build_dynamic_prefix(\"list me the disposables products that have nicotine strength between 0% to 5% .\"))"
   ]
  },
  {
   "cell_type": "markdown",
   "id": "63c40b63",
   "metadata": {},
   "source": [
    "# 7. Using Create_SQL_agent with agent_type \"Openai_Functions\"\n",
    "\n",
    "### Note : Only works with 'OPEN-AI MODELS\""
   ]
  },
  {
   "cell_type": "code",
   "execution_count": 14,
   "id": "f2ceb76d",
   "metadata": {},
   "outputs": [],
   "source": [
    "\n",
    "# tool to get the list of tables from database\n",
    "@tool\n",
    "def list_tables(_: str = \"\") -> str:\n",
    "    \"\"\"Use this tool to list all table names that exist in the connected MySQL database. Pass an empty string to get the list of available tables\n",
    "    This is helpful when you need to know what tables are available before writing a SQL query.\"\"\"\n",
    "    return str(db.get_table_names())\n",
    "\n",
    "\n",
    "# tool to get schema of table to be used\n",
    "@tool\n",
    "def describe_table(table_name: str) -> str:\n",
    "    \"\"\"Use this tool to get the schema (column names and types) of a specific table.Input should be the name of the table as a string. \n",
    "    This is useful to understand what data is stored in the table before writing queries.\"\"\"\n",
    "    return str(db.get_table_info([table_name]))\n",
    "\n",
    "# tool to execute the sql query in database\n",
    "@tool\n",
    "def run_sql_query(query: str) -> str:\n",
    "    \"\"\"Use this tool to run a raw SQL query on the database and return the result.\n",
    "    Input should be a complete and valid SQL SELECT query as a string. \n",
    "    Use this when you already know which table and columns to query.\"\"\"\n",
    "    return str(db.run(query))\n",
    "\n",
    "\n",
    "\n"
   ]
  },
  {
   "cell_type": "code",
   "execution_count": 15,
   "id": "01e0330e",
   "metadata": {},
   "outputs": [
    {
     "name": "stdout",
     "output_type": "stream",
     "text": [
      "run_sql_query\n",
      "Use this tool to run a raw SQL query on the database and return the result.\n",
      "    Input should be a complete and valid SQL SELECT query as a string. \n",
      "    Use this when you already know which table and columns to query.\n",
      "{'query': {'title': 'Query', 'type': 'string'}}\n",
      "{'description': 'Use this tool to run a raw SQL query on the database and return the result.\\nInput should be a complete and valid SQL SELECT query as a string. \\nUse this when you already know which table and columns to query.', 'properties': {'query': {'title': 'Query', 'type': 'string'}}, 'required': ['query'], 'title': 'run_sql_query', 'type': 'object'}\n"
     ]
    }
   ],
   "source": [
    "print(run_sql_query.name)  #to get the name of the tool\n",
    "print(run_sql_query.description) #to get the description of the tool\n",
    "print(run_sql_query.args) # to get the input arguments to the tools \n",
    "print(run_sql_query.args_schema.model_json_schema()) # to get the schmea of the tool "
   ]
  },
  {
   "cell_type": "code",
   "execution_count": 16,
   "id": "71a754d7",
   "metadata": {},
   "outputs": [],
   "source": [
    "chat_history = []"
   ]
  },
  {
   "cell_type": "code",
   "execution_count": 17,
   "id": "d247c695",
   "metadata": {},
   "outputs": [],
   "source": [
    "system_msg = \"\"\"\n",
    "You are a helpful assistant that interacts with a MySQL database using tools. Your task is to create syntactically correct MySQL SELECT queries, execute them using tools, and return a well-formatted, natural language response.\n",
    "Rules:\n",
    "\n",
    "1. Use tools in this order: list_tables ,describe_table ,run_sql_query.\n",
    "2. Only handle simple greetings like \"Hi\" or \"Hello\" without using tools.\n",
    "3. Strictly For SQL queries, use only SELECT statements. Do not execute queries queries such as INSERT, UPDATE, DELETE,ALTER ,DROP etc that modifies the schema of the database etc.\n",
    "4. Do not show SQL queries in the final user response.\n",
    "5. Retrieve a maximum of 5 results using LIMIT unless the user specifies otherwise.\n",
    "6. Never query all columns; retrieve only the necessary ones.\n",
    "7. Do not hallucinate answers. If data is not found, respond with: \"Sorry I am unable to answer your question.\"\n",
    "8. Always handle follow-up questions based on previous chat history and use tools if needed.\n",
    "\n",
    "Available tools:\n",
    "\n",
    "1. list_tables – Lists all tables.\n",
    "2. describe_table – Describes schema of a table.\n",
    "3. run_sql_query – Executes a raw SQL SELECT query.\n",
    "\n",
    "Use the tools smartly to identify the right table, understand the schema, generate the right query, and answer concisely as You are a Customer supporter Agent.\n",
    "\"\"\""
   ]
  },
  {
   "cell_type": "code",
   "execution_count": 18,
   "id": "d17ed6dd",
   "metadata": {},
   "outputs": [],
   "source": [
    "# Trim messages to keep last 2 conversation\n",
    "def conversational_window_memory(messages):\n",
    "    selected_msg = trim_messages(\n",
    "    messages,\n",
    "    token_counter=len,  \n",
    "    max_tokens=2,  \n",
    "    strategy=\"last\",\n",
    "    \n",
    "    start_on=\"human\",\n",
    "\n",
    "    include_system=True,\n",
    "    allow_partial=False,\n",
    "\n",
    "    )\n",
    "    return selected_msg"
   ]
  },
  {
   "cell_type": "code",
   "execution_count": 19,
   "id": "572845eb",
   "metadata": {},
   "outputs": [],
   "source": [
    "tools = [list_tables,describe_table,run_sql_query]\n",
    "\n",
    "def initialize_agent(prompt):\n",
    "    agent = create_openai_tools_agent(llm=llm, tools=tools, prompt=prompt)\n",
    "\n",
    "    agent_executor2 = AgentExecutor(agent=agent, tools=tools, verbose=True,return_intermediate_steps=True)\n",
    "    return agent , agent_executor2"
   ]
  },
  {
   "cell_type": "code",
   "execution_count": 20,
   "id": "62344fe7",
   "metadata": {},
   "outputs": [
    {
     "name": "stdout",
     "output_type": "stream",
     "text": [
      "\n",
      "\n",
      "\u001b[1m> Entering new AgentExecutor chain...\u001b[0m\n",
      "\u001b[32;1m\u001b[1;3m\n",
      "Invoking: `list_tables` with `{}`\n",
      "\n",
      "\n",
      "\u001b[0m\u001b[36;1m\u001b[1;3m['cigars_category', 'cigrattes_category', 'disposable_category', 'ecigs_vape_category', 'other_category', 'tobaccos_category']\u001b[0m"
     ]
    },
    {
     "name": "stderr",
     "output_type": "stream",
     "text": [
      "C:\\Users\\Prabal Kuinkel\\AppData\\Local\\Temp\\ipykernel_14832\\3841982296.py:6: LangChainDeprecationWarning: The method `SQLDatabase.get_table_names` was deprecated in langchain-community 0.0.1 and will be removed in 1.0. Use :meth:`~get_usable_table_names` instead.\n",
      "  return str(db.get_table_names())\n"
     ]
    },
    {
     "name": "stdout",
     "output_type": "stream",
     "text": [
      "\u001b[32;1m\u001b[1;3m\n",
      "Invoking: `describe_table` with `{'table_name': 'cigars_category'}`\n",
      "\n",
      "\n",
      "\u001b[0m\u001b[33;1m\u001b[1;3m\n",
      "CREATE TABLE cigars_category (\n",
      "\t`Product_ID` INTEGER NOT NULL, \n",
      "\t`Display_Name` VARCHAR(225), \n",
      "\t`Barcode` VARCHAR(50), \n",
      "\t`Product_Sub_Category` VARCHAR(80), \n",
      "\t`Product_Category` VARCHAR(80), \n",
      "\t`Brand` VARCHAR(80), \n",
      "\t`Flavor` VARCHAR(80), \n",
      "\t`Packet_count` VARCHAR(30), \n",
      "\t`Other_Features` VARCHAR(200), \n",
      "\tPRIMARY KEY (`Product_ID`)\n",
      ")COLLATE utf8mb4_0900_ai_ci ENGINE=InnoDB DEFAULT CHARSET=utf8mb4\n",
      "\n",
      "/*\n",
      "2 rows from cigars_category table:\n",
      "Product_ID\tDisplay_Name\tBarcode\tProduct_Sub_Category\tProduct_Category\tBrand\tFlavor\tPacket_count\tOther_Features\n",
      "5\tAL CAPONE 10-10PK (Sweet Filter)\t7.18E+11\tAL CAPONE\tCIGARS\tAL CAPONE\tSweet Filter\t10-10PK\t\n",
      "693\tAL CAPONE 60-2PK (Sweet Filter Tower)\t7.18E+11\tAL CAPONE\tCIGARS\tAL CAPONE\tSweet Filter Tower\t60-2PK\t\n",
      "*/\u001b[0m\u001b[32;1m\u001b[1;3m\n",
      "Invoking: `run_sql_query` with `{'query': 'SELECT COUNT(DISTINCT Flavor) FROM cigars_category'}`\n",
      "\n",
      "\n",
      "\u001b[0m\u001b[38;5;200m\u001b[1;3m[(664,)]\u001b[0m\u001b[32;1m\u001b[1;3mWe have 664 different flavors of cigars.\u001b[0m\n",
      "\n",
      "\u001b[1m> Finished chain.\u001b[0m\n",
      "User Question: how many flavors do you have in cigars .\n",
      "Agent: {'chat_history': [], 'output': 'We have 664 different flavors of cigars.', 'intermediate_steps': [(ToolAgentAction(tool='list_tables', tool_input={}, log='\\nInvoking: `list_tables` with `{}`\\n\\n\\n', message_log=[AIMessageChunk(content='', additional_kwargs={'tool_calls': [{'index': 0, 'id': 'call_35vj', 'function': {'arguments': '{}', 'name': 'list_tables'}, 'type': 'function'}]}, response_metadata={'finish_reason': 'tool_calls', 'model_name': 'Llama-3.3-70b-Versatile', 'system_fingerprint': 'fp_2ddfbb0da0'}, id='run--80e28f6f-928b-4605-ac63-49f28f6ddb35', tool_calls=[{'name': 'list_tables', 'args': {}, 'id': 'call_35vj', 'type': 'tool_call'}], usage_metadata={'input_tokens': 893, 'output_tokens': 41, 'total_tokens': 934}, tool_call_chunks=[{'name': 'list_tables', 'args': '{}', 'id': 'call_35vj', 'index': 0, 'type': 'tool_call_chunk'}])], tool_call_id='call_35vj'), \"['cigars_category', 'cigrattes_category', 'disposable_category', 'ecigs_vape_category', 'other_category', 'tobaccos_category']\"), (ToolAgentAction(tool='describe_table', tool_input={'table_name': 'cigars_category'}, log=\"\\nInvoking: `describe_table` with `{'table_name': 'cigars_category'}`\\n\\n\\n\", message_log=[AIMessageChunk(content='', additional_kwargs={'tool_calls': [{'index': 0, 'id': 'call_c4th', 'function': {'arguments': '{\"table_name\":\"cigars_category\"}', 'name': 'describe_table'}, 'type': 'function'}]}, response_metadata={'finish_reason': 'tool_calls', 'model_name': 'Llama-3.3-70b-Versatile', 'system_fingerprint': 'fp_2ddfbb0da0'}, id='run--62ff80f8-4bab-4fdd-ab1a-09ba404a9da0', tool_calls=[{'name': 'describe_table', 'args': {'table_name': 'cigars_category'}, 'id': 'call_c4th', 'type': 'tool_call'}], usage_metadata={'input_tokens': 948, 'output_tokens': 19, 'total_tokens': 967}, tool_call_chunks=[{'name': 'describe_table', 'args': '{\"table_name\":\"cigars_category\"}', 'id': 'call_c4th', 'index': 0, 'type': 'tool_call_chunk'}])], tool_call_id='call_c4th'), '\\nCREATE TABLE cigars_category (\\n\\t`Product_ID` INTEGER NOT NULL, \\n\\t`Display_Name` VARCHAR(225), \\n\\t`Barcode` VARCHAR(50), \\n\\t`Product_Sub_Category` VARCHAR(80), \\n\\t`Product_Category` VARCHAR(80), \\n\\t`Brand` VARCHAR(80), \\n\\t`Flavor` VARCHAR(80), \\n\\t`Packet_count` VARCHAR(30), \\n\\t`Other_Features` VARCHAR(200), \\n\\tPRIMARY KEY (`Product_ID`)\\n)COLLATE utf8mb4_0900_ai_ci ENGINE=InnoDB DEFAULT CHARSET=utf8mb4\\n\\n/*\\n2 rows from cigars_category table:\\nProduct_ID\\tDisplay_Name\\tBarcode\\tProduct_Sub_Category\\tProduct_Category\\tBrand\\tFlavor\\tPacket_count\\tOther_Features\\n5\\tAL CAPONE 10-10PK (Sweet Filter)\\t7.18E+11\\tAL CAPONE\\tCIGARS\\tAL CAPONE\\tSweet Filter\\t10-10PK\\t\\n693\\tAL CAPONE 60-2PK (Sweet Filter Tower)\\t7.18E+11\\tAL CAPONE\\tCIGARS\\tAL CAPONE\\tSweet Filter Tower\\t60-2PK\\t\\n*/'), (ToolAgentAction(tool='run_sql_query', tool_input={'query': 'SELECT COUNT(DISTINCT Flavor) FROM cigars_category'}, log=\"\\nInvoking: `run_sql_query` with `{'query': 'SELECT COUNT(DISTINCT Flavor) FROM cigars_category'}`\\n\\n\\n\", message_log=[AIMessageChunk(content='', additional_kwargs={'tool_calls': [{'index': 0, 'id': 'call_cdrt', 'function': {'arguments': '{\"query\":\"SELECT COUNT(DISTINCT Flavor) FROM cigars_category\"}', 'name': 'run_sql_query'}, 'type': 'function'}]}, response_metadata={'finish_reason': 'tool_calls', 'model_name': 'Llama-3.3-70b-Versatile', 'system_fingerprint': 'fp_2ddfbb0da0'}, id='run--3aa2126d-7018-4e9d-acb0-ed10d3ef903d', tool_calls=[{'name': 'run_sql_query', 'args': {'query': 'SELECT COUNT(DISTINCT Flavor) FROM cigars_category'}, 'id': 'call_cdrt', 'type': 'tool_call'}], usage_metadata={'input_tokens': 1217, 'output_tokens': 25, 'total_tokens': 1242}, tool_call_chunks=[{'name': 'run_sql_query', 'args': '{\"query\":\"SELECT COUNT(DISTINCT Flavor) FROM cigars_category\"}', 'id': 'call_cdrt', 'index': 0, 'type': 'tool_call_chunk'}])], tool_call_id='call_cdrt'), '[(664,)]')]}\n"
     ]
    }
   ],
   "source": [
    "## Assembling all the components\n",
    "\n",
    "user_question = input(\"Enter the query: \")\n",
    "if user_question:\n",
    "    \n",
    "    dynamic_prefix = build_dynamic_prefix(user_question) # User question + 1 most similar examples from vectorstore\n",
    "\n",
    "    prompt = ChatPromptTemplate.from_messages([          # Prompt to agent that conist of : system prompt + chat_history + user_question and dynamic example + Empty agent scratchpad\n",
    "    (\"system\", system_msg),\n",
    "\n",
    "    MessagesPlaceholder(variable_name = \"chat_history\"),\n",
    "\n",
    "    (\"human\",dynamic_prefix),\n",
    "    MessagesPlaceholder(variable_name=\"agent_scratchpad\")  #\n",
    "])\n",
    "    \n",
    "    agent,agent_executor = initialize_agent(prompt)  # Initialize the agent and agent executor with the prompt\n",
    "\n",
    "    response = agent_executor.invoke({               # Invoke the agent with empty \"\" input and chat_history\n",
    "    \"chat_history\" : chat_history \n",
    "    })\n",
    "    print(f\"User Question: {user_question}\")\n",
    "    print(f\"Agent: {response}\")\n",
    "\n",
    "    chat_history.append(HumanMessage(content=user_question))        # Append the user question to chat_history\n",
    "\n",
    "    chat_history.append(AIMessage(response['output']))                #Append the agent's final response to chat_history\n",
    "\n",
    "    chat_history = conversational_window_memory(chat_history)          # Trim to keep only 2 msg (equivalent to 1 conversation between human and agent)\n",
    "    \n"
   ]
  },
  {
   "cell_type": "code",
   "execution_count": 21,
   "id": "add6233f",
   "metadata": {},
   "outputs": [
    {
     "name": "stdout",
     "output_type": "stream",
     "text": [
      "User Question: how many flavors do you have in cigars .\n",
      "Agent: We have 664 different flavors of cigars.\n",
      "[HumanMessage(content='how many flavors do you have in cigars .', additional_kwargs={}, response_metadata={}), AIMessage(content='We have 664 different flavors of cigars.', additional_kwargs={}, response_metadata={})]\n"
     ]
    }
   ],
   "source": [
    "print(f\"User Question: {user_question}\")\n",
    "print(f\"Agent: {response['output']}\")\n",
    "print(chat_history)"
   ]
  },
  {
   "cell_type": "code",
   "execution_count": 22,
   "id": "d1743f5f",
   "metadata": {},
   "outputs": [
    {
     "data": {
      "text/plain": [
       "{'chat_history': [HumanMessage(content='how many flavors do you have in cigars .', additional_kwargs={}, response_metadata={}),\n",
       "  AIMessage(content='We have 664 different flavors of cigars.', additional_kwargs={}, response_metadata={})],\n",
       " 'output': 'We have 664 different flavors of cigars.',\n",
       " 'intermediate_steps': [(ToolAgentAction(tool='list_tables', tool_input={}, log='\\nInvoking: `list_tables` with `{}`\\n\\n\\n', message_log=[AIMessageChunk(content='', additional_kwargs={'tool_calls': [{'index': 0, 'id': 'call_35vj', 'function': {'arguments': '{}', 'name': 'list_tables'}, 'type': 'function'}]}, response_metadata={'finish_reason': 'tool_calls', 'model_name': 'Llama-3.3-70b-Versatile', 'system_fingerprint': 'fp_2ddfbb0da0'}, id='run--80e28f6f-928b-4605-ac63-49f28f6ddb35', tool_calls=[{'name': 'list_tables', 'args': {}, 'id': 'call_35vj', 'type': 'tool_call'}], usage_metadata={'input_tokens': 893, 'output_tokens': 41, 'total_tokens': 934}, tool_call_chunks=[{'name': 'list_tables', 'args': '{}', 'id': 'call_35vj', 'index': 0, 'type': 'tool_call_chunk'}])], tool_call_id='call_35vj'),\n",
       "   \"['cigars_category', 'cigrattes_category', 'disposable_category', 'ecigs_vape_category', 'other_category', 'tobaccos_category']\"),\n",
       "  (ToolAgentAction(tool='describe_table', tool_input={'table_name': 'cigars_category'}, log=\"\\nInvoking: `describe_table` with `{'table_name': 'cigars_category'}`\\n\\n\\n\", message_log=[AIMessageChunk(content='', additional_kwargs={'tool_calls': [{'index': 0, 'id': 'call_c4th', 'function': {'arguments': '{\"table_name\":\"cigars_category\"}', 'name': 'describe_table'}, 'type': 'function'}]}, response_metadata={'finish_reason': 'tool_calls', 'model_name': 'Llama-3.3-70b-Versatile', 'system_fingerprint': 'fp_2ddfbb0da0'}, id='run--62ff80f8-4bab-4fdd-ab1a-09ba404a9da0', tool_calls=[{'name': 'describe_table', 'args': {'table_name': 'cigars_category'}, 'id': 'call_c4th', 'type': 'tool_call'}], usage_metadata={'input_tokens': 948, 'output_tokens': 19, 'total_tokens': 967}, tool_call_chunks=[{'name': 'describe_table', 'args': '{\"table_name\":\"cigars_category\"}', 'id': 'call_c4th', 'index': 0, 'type': 'tool_call_chunk'}])], tool_call_id='call_c4th'),\n",
       "   '\\nCREATE TABLE cigars_category (\\n\\t`Product_ID` INTEGER NOT NULL, \\n\\t`Display_Name` VARCHAR(225), \\n\\t`Barcode` VARCHAR(50), \\n\\t`Product_Sub_Category` VARCHAR(80), \\n\\t`Product_Category` VARCHAR(80), \\n\\t`Brand` VARCHAR(80), \\n\\t`Flavor` VARCHAR(80), \\n\\t`Packet_count` VARCHAR(30), \\n\\t`Other_Features` VARCHAR(200), \\n\\tPRIMARY KEY (`Product_ID`)\\n)COLLATE utf8mb4_0900_ai_ci ENGINE=InnoDB DEFAULT CHARSET=utf8mb4\\n\\n/*\\n2 rows from cigars_category table:\\nProduct_ID\\tDisplay_Name\\tBarcode\\tProduct_Sub_Category\\tProduct_Category\\tBrand\\tFlavor\\tPacket_count\\tOther_Features\\n5\\tAL CAPONE 10-10PK (Sweet Filter)\\t7.18E+11\\tAL CAPONE\\tCIGARS\\tAL CAPONE\\tSweet Filter\\t10-10PK\\t\\n693\\tAL CAPONE 60-2PK (Sweet Filter Tower)\\t7.18E+11\\tAL CAPONE\\tCIGARS\\tAL CAPONE\\tSweet Filter Tower\\t60-2PK\\t\\n*/'),\n",
       "  (ToolAgentAction(tool='run_sql_query', tool_input={'query': 'SELECT COUNT(DISTINCT Flavor) FROM cigars_category'}, log=\"\\nInvoking: `run_sql_query` with `{'query': 'SELECT COUNT(DISTINCT Flavor) FROM cigars_category'}`\\n\\n\\n\", message_log=[AIMessageChunk(content='', additional_kwargs={'tool_calls': [{'index': 0, 'id': 'call_cdrt', 'function': {'arguments': '{\"query\":\"SELECT COUNT(DISTINCT Flavor) FROM cigars_category\"}', 'name': 'run_sql_query'}, 'type': 'function'}]}, response_metadata={'finish_reason': 'tool_calls', 'model_name': 'Llama-3.3-70b-Versatile', 'system_fingerprint': 'fp_2ddfbb0da0'}, id='run--3aa2126d-7018-4e9d-acb0-ed10d3ef903d', tool_calls=[{'name': 'run_sql_query', 'args': {'query': 'SELECT COUNT(DISTINCT Flavor) FROM cigars_category'}, 'id': 'call_cdrt', 'type': 'tool_call'}], usage_metadata={'input_tokens': 1217, 'output_tokens': 25, 'total_tokens': 1242}, tool_call_chunks=[{'name': 'run_sql_query', 'args': '{\"query\":\"SELECT COUNT(DISTINCT Flavor) FROM cigars_category\"}', 'id': 'call_cdrt', 'index': 0, 'type': 'tool_call_chunk'}])], tool_call_id='call_cdrt'),\n",
       "   '[(664,)]')]}"
      ]
     },
     "execution_count": 22,
     "metadata": {},
     "output_type": "execute_result"
    }
   ],
   "source": [
    "response"
   ]
  },
  {
   "cell_type": "code",
   "execution_count": 23,
   "id": "1615d943",
   "metadata": {},
   "outputs": [
    {
     "data": {
      "text/plain": [
       "'SELECT COUNT(DISTINCT Flavor) FROM cigars_category'"
      ]
     },
     "execution_count": 23,
     "metadata": {},
     "output_type": "execute_result"
    }
   ],
   "source": [
    "response['intermediate_steps'][2][0].tool_input['query']"
   ]
  },
  {
   "cell_type": "code",
   "execution_count": 24,
   "id": "c2fd4721",
   "metadata": {},
   "outputs": [
    {
     "name": "stdout",
     "output_type": "stream",
     "text": [
      "SELECT COUNT(DISTINCT Flavor) FROM cigars_category\n"
     ]
    }
   ],
   "source": [
    "sql_query = None\n",
    "\n",
    "for step in response.get(\"intermediate_steps\", []):\n",
    "    action, _ = step\n",
    "    if hasattr(action, \"tool\") and action.tool == \"run_sql_query\":\n",
    "        sql_query = action.tool_input.get(\"query\")\n",
    "        break\n",
    "\n",
    "if sql_query:\n",
    "    print(sql_query)\n",
    "else:\n",
    "    print(\"No SQL query found in intermediate steps.\")"
   ]
  },
  {
   "cell_type": "code",
   "execution_count": 27,
   "id": "a48edad8",
   "metadata": {},
   "outputs": [
    {
     "name": "stdout",
     "output_type": "stream",
     "text": [
      "SELECT COUNT(DISTINCT Flavor) FROM cigars_category\n",
      "call_cdrt\n"
     ]
    }
   ],
   "source": [
    "for step in response.get(\"intermediate_steps\", []):\n",
    "        action, _ = step\n",
    "        if hasattr(action, \"tool\") and action.tool == \"run_sql_query\":\n",
    "            sql_query = action.tool_input.get(\"query\")\n",
    "            tool_call_id = action.tool_call_id\n",
    "            break\n",
    "print(sql_query)\n",
    "print(tool_call_id)"
   ]
  },
  {
   "cell_type": "markdown",
   "id": "ba24905c",
   "metadata": {},
   "source": [
    "### ---------------------------------------------------------------------------------------------------------------------------------"
   ]
  }
 ],
 "metadata": {
  "kernelspec": {
   "display_name": "sql_agent_nepa",
   "language": "python",
   "name": "python3"
  },
  "language_info": {
   "codemirror_mode": {
    "name": "ipython",
    "version": 3
   },
   "file_extension": ".py",
   "mimetype": "text/x-python",
   "name": "python",
   "nbconvert_exporter": "python",
   "pygments_lexer": "ipython3",
   "version": "3.11.7"
  }
 },
 "nbformat": 4,
 "nbformat_minor": 5
}
