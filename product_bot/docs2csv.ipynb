{
 "cells": [
  {
   "cell_type": "code",
   "execution_count": 1,
   "id": "38806ed2",
   "metadata": {},
   "outputs": [
    {
     "name": "stdout",
     "output_type": "stream",
     "text": [
      "Collecting PyPDF2\n",
      "  Obtaining dependency information for PyPDF2 from https://files.pythonhosted.org/packages/8e/5e/c86a5643653825d3c913719e788e41386bee415c2b87b4f955432f2de6b2/pypdf2-3.0.1-py3-none-any.whl.metadata\n",
      "  Downloading pypdf2-3.0.1-py3-none-any.whl.metadata (6.8 kB)\n",
      "Downloading pypdf2-3.0.1-py3-none-any.whl (232 kB)\n",
      "   ---------------------------------------- 0.0/232.6 kB ? eta -:--:--\n",
      "   ----- ---------------------------------- 30.7/232.6 kB 1.3 MB/s eta 0:00:01\n",
      "   ---------- ---------------------------- 61.4/232.6 kB 656.4 kB/s eta 0:00:01\n",
      "   ------------ -------------------------- 71.7/232.6 kB 558.5 kB/s eta 0:00:01\n",
      "   --------------- ----------------------- 92.2/232.6 kB 476.3 kB/s eta 0:00:01\n",
      "   --------------------------------- ---- 204.8/232.6 kB 888.4 kB/s eta 0:00:01\n",
      "   -------------------------------------- 232.6/232.6 kB 889.3 kB/s eta 0:00:00\n",
      "Installing collected packages: PyPDF2\n",
      "Successfully installed PyPDF2-3.0.1\n",
      "Note: you may need to restart the kernel to use updated packages.\n"
     ]
    },
    {
     "name": "stderr",
     "output_type": "stream",
     "text": [
      "\n",
      "[notice] A new release of pip is available: 23.2.1 -> 25.1.1\n",
      "[notice] To update, run: python.exe -m pip install --upgrade pip\n"
     ]
    }
   ],
   "source": [
    "pip install PyPDF2"
   ]
  },
  {
   "cell_type": "code",
   "execution_count": null,
   "id": "bf30035d",
   "metadata": {},
   "outputs": [],
   "source": [
    "import pandas as pd\n",
    "import re\n",
    "import os \n",
    "from datatime import datatime"
   ]
  },
  {
   "cell_type": "code",
   "execution_count": 2,
   "id": "6fb37c81",
   "metadata": {},
   "outputs": [
    {
     "name": "stdout",
     "output_type": "stream",
     "text": [
      "First page content:\n",
      "NEPA Wholesale Customer Support Knowledge \n",
      "Base \n",
      "Company Overview  \n",
      "About NEPA Wholesale  \n",
      "Q: What is NEPA Wholesale?  \n",
      "A: NEPA Wholesale is a leading distributor established in 2009, providing businesses \n",
      "across the U.S. with high -quality, affordable bulk goods. We specialize in wholesale \n",
      "products including e -cigarettes, tobacco, cigars, snacks, beverages, and everyday \n",
      "essentials. We serve as a one -stop-shop for convenience stores, retail stores, and \n",
      "smoke/vape shops.  \n",
      "Q: What is your company's mission?  \n",
      "A: Our mission is to link manufacturers and retailers, facilitate the efficient flow of \n",
      "products across the supply chain, an d ensure the right products reach the right people \n",
      "at the right time.  \n",
      "Q: What is your vision?  \n",
      "A: Our vision is to be a leading global wholesale company, ensuring customers always \n",
      "have a reliable source of high -quality products that meet their needs.  \n",
      "Q: Wha t are your company values?  \n",
      "A: Our core values are:  \n",
      "• Efficiency  \n",
      "• Reliability  \n",
      "• Quality  \n",
      "• Business Relationships  \n",
      "• Supply Chain Integrity  \n"
     ]
    }
   ],
   "source": [
    "import PyPDF2\n",
    "\n",
    "def print_first_content(pdf_file_path):\n",
    "    try:\n",
    "        # Open the PDF file in read-binary mode\n",
    "        with open(pdf_file_path, 'rb') as file:\n",
    "            # Create a PDF reader object\n",
    "            pdf_reader = PyPDF2.PdfReader(file)\n",
    "            \n",
    "            # Check if the PDF has at least one page\n",
    "            if len(pdf_reader.pages) > 0:\n",
    "                # Get the first page\n",
    "                first_page = pdf_reader.pages[0]\n",
    "                \n",
    "                # Extract text from the first page\n",
    "                first_content = first_page.extract_text()\n",
    "                \n",
    "                # Print the content\n",
    "                print(\"First page content:\")\n",
    "                print(first_content)\n",
    "            else:\n",
    "                print(\"The PDF file is empty.\")\n",
    "                \n",
    "    except FileNotFoundError:\n",
    "        print(f\"Error: The file '{pdf_file_path}' was not found.\")\n",
    "    except Exception as e:\n",
    "        print(f\"An error occurred: {str(e)}\")\n",
    "\n",
    "# Usage example\n",
    "document_path = \"docs/Customer Support KB Updated.pdf\" \n",
    "# print(document_path)\n",
    "print_first_content(document_path)"
   ]
  },
  {
   "cell_type": "code",
   "execution_count": null,
   "id": "efa62f2e",
   "metadata": {},
   "outputs": [],
   "source": []
  }
 ],
 "metadata": {
  "kernelspec": {
   "display_name": "cus_support_env",
   "language": "python",
   "name": "python3"
  },
  "language_info": {
   "codemirror_mode": {
    "name": "ipython",
    "version": 3
   },
   "file_extension": ".py",
   "mimetype": "text/x-python",
   "name": "python",
   "nbconvert_exporter": "python",
   "pygments_lexer": "ipython3",
   "version": "3.11.7"
  }
 },
 "nbformat": 4,
 "nbformat_minor": 5
}
